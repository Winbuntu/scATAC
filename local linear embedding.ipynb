{
 "cells": [
  {
   "cell_type": "code",
   "execution_count": 1,
   "metadata": {
    "collapsed": false
   },
   "outputs": [
    {
     "name": "stderr",
     "output_type": "stream",
     "text": [
      "/Users/anqin/anaconda/lib/python2.7/site-packages/pandas-0.18.1-py2.7-macosx-10.5-x86_64.egg/pandas/computation/__init__.py:19: UserWarning: The installed version of numexpr 2.4.4 is not supported in pandas and will be not be used\n",
      "\n",
      "  UserWarning)\n"
     ]
    }
   ],
   "source": [
    "import pandas\n",
    "import sklearn.manifold\n",
    "%matplotlib inline"
   ]
  },
  {
   "cell_type": "code",
   "execution_count": 2,
   "metadata": {
    "collapsed": true
   },
   "outputs": [],
   "source": [
    "exp_matrix = pandas.read_csv(filepath_or_buffer=\"Filtered.normlaized.expression.csv\",header=0,index_col=0)"
   ]
  },
  {
   "cell_type": "code",
   "execution_count": 3,
   "metadata": {
    "collapsed": false
   },
   "outputs": [
    {
     "data": {
      "text/html": [
       "<div>\n",
       "<table border=\"1\" class=\"dataframe\">\n",
       "  <thead>\n",
       "    <tr style=\"text-align: right;\">\n",
       "      <th></th>\n",
       "      <th>CSCP3_SERUM_A02</th>\n",
       "      <th>CSCP3_SERUM_A03</th>\n",
       "      <th>CSCP3_SERUM_A04</th>\n",
       "      <th>CSCP3_SERUM_A05</th>\n",
       "      <th>CSCP3_SERUM_A06</th>\n",
       "      <th>CSCP3_SERUM_A07</th>\n",
       "      <th>CSCP3_SERUM_A09</th>\n",
       "      <th>CSCP3_SERUM_A10</th>\n",
       "      <th>CSCP3_SERUM_B01</th>\n",
       "      <th>CSCP3_SERUM_B02</th>\n",
       "      <th>...</th>\n",
       "      <th>CSCP3_SERUM_G05</th>\n",
       "      <th>CSCP3_SERUM_G06</th>\n",
       "      <th>CSCP3_SERUM_G07</th>\n",
       "      <th>CSCP3_SERUM_G09</th>\n",
       "      <th>CSCP3_SERUM_G10</th>\n",
       "      <th>CSCP3_SERUM_H01</th>\n",
       "      <th>CSCP3_SERUM_H02</th>\n",
       "      <th>CSCP3_SERUM_H03</th>\n",
       "      <th>CSCP3_SERUM_H09</th>\n",
       "      <th>CSCP3_SERUM_H10</th>\n",
       "    </tr>\n",
       "  </thead>\n",
       "  <tbody>\n",
       "    <tr>\n",
       "      <th>ENSMUSG00000000001</th>\n",
       "      <td>2067.817146</td>\n",
       "      <td>489.331053</td>\n",
       "      <td>1931.898272</td>\n",
       "      <td>631.224035</td>\n",
       "      <td>1890.464023</td>\n",
       "      <td>1413.677958</td>\n",
       "      <td>1779.398211</td>\n",
       "      <td>1191.744330</td>\n",
       "      <td>863.376312</td>\n",
       "      <td>478.196017</td>\n",
       "      <td>...</td>\n",
       "      <td>1025.374062</td>\n",
       "      <td>7.043681</td>\n",
       "      <td>2816.986385</td>\n",
       "      <td>954.789766</td>\n",
       "      <td>1030.146220</td>\n",
       "      <td>1044.632271</td>\n",
       "      <td>765.390811</td>\n",
       "      <td>1895.492512</td>\n",
       "      <td>940.973621</td>\n",
       "      <td>0.00000</td>\n",
       "    </tr>\n",
       "    <tr>\n",
       "      <th>ENSMUSG00000000028</th>\n",
       "      <td>0.000000</td>\n",
       "      <td>182.879526</td>\n",
       "      <td>9.693297</td>\n",
       "      <td>292.884710</td>\n",
       "      <td>76.670258</td>\n",
       "      <td>761.518682</td>\n",
       "      <td>1153.506956</td>\n",
       "      <td>106.284671</td>\n",
       "      <td>964.335536</td>\n",
       "      <td>32.822494</td>\n",
       "      <td>...</td>\n",
       "      <td>0.000000</td>\n",
       "      <td>0.000000</td>\n",
       "      <td>373.535885</td>\n",
       "      <td>0.000000</td>\n",
       "      <td>0.000000</td>\n",
       "      <td>0.000000</td>\n",
       "      <td>1906.695790</td>\n",
       "      <td>0.000000</td>\n",
       "      <td>482.654221</td>\n",
       "      <td>0.00000</td>\n",
       "    </tr>\n",
       "    <tr>\n",
       "      <th>ENSMUSG00000000037</th>\n",
       "      <td>0.000000</td>\n",
       "      <td>133.090046</td>\n",
       "      <td>2.734047</td>\n",
       "      <td>0.000000</td>\n",
       "      <td>0.000000</td>\n",
       "      <td>41.586720</td>\n",
       "      <td>0.000000</td>\n",
       "      <td>0.000000</td>\n",
       "      <td>0.000000</td>\n",
       "      <td>0.000000</td>\n",
       "      <td>...</td>\n",
       "      <td>852.370170</td>\n",
       "      <td>0.000000</td>\n",
       "      <td>0.000000</td>\n",
       "      <td>0.000000</td>\n",
       "      <td>137.554751</td>\n",
       "      <td>0.000000</td>\n",
       "      <td>0.000000</td>\n",
       "      <td>0.000000</td>\n",
       "      <td>39.284814</td>\n",
       "      <td>0.00000</td>\n",
       "    </tr>\n",
       "    <tr>\n",
       "      <th>ENSMUSG00000000056</th>\n",
       "      <td>0.000000</td>\n",
       "      <td>13.571329</td>\n",
       "      <td>0.000000</td>\n",
       "      <td>598.406976</td>\n",
       "      <td>182.267080</td>\n",
       "      <td>0.000000</td>\n",
       "      <td>0.000000</td>\n",
       "      <td>0.000000</td>\n",
       "      <td>0.000000</td>\n",
       "      <td>0.000000</td>\n",
       "      <td>...</td>\n",
       "      <td>0.000000</td>\n",
       "      <td>0.000000</td>\n",
       "      <td>63.061875</td>\n",
       "      <td>0.000000</td>\n",
       "      <td>0.000000</td>\n",
       "      <td>210.124454</td>\n",
       "      <td>861.088046</td>\n",
       "      <td>379.093099</td>\n",
       "      <td>0.000000</td>\n",
       "      <td>105.89739</td>\n",
       "    </tr>\n",
       "    <tr>\n",
       "      <th>ENSMUSG00000000058</th>\n",
       "      <td>379.454922</td>\n",
       "      <td>0.000000</td>\n",
       "      <td>114.086869</td>\n",
       "      <td>420.021599</td>\n",
       "      <td>0.000000</td>\n",
       "      <td>66.517913</td>\n",
       "      <td>37.194040</td>\n",
       "      <td>0.000000</td>\n",
       "      <td>11.420307</td>\n",
       "      <td>0.000000</td>\n",
       "      <td>...</td>\n",
       "      <td>252.559746</td>\n",
       "      <td>0.000000</td>\n",
       "      <td>0.000000</td>\n",
       "      <td>0.000000</td>\n",
       "      <td>0.000000</td>\n",
       "      <td>14.305369</td>\n",
       "      <td>0.000000</td>\n",
       "      <td>0.000000</td>\n",
       "      <td>0.000000</td>\n",
       "      <td>0.00000</td>\n",
       "    </tr>\n",
       "  </tbody>\n",
       "</table>\n",
       "<p>5 rows × 61 columns</p>\n",
       "</div>"
      ],
      "text/plain": [
       "                    CSCP3_SERUM_A02  CSCP3_SERUM_A03  CSCP3_SERUM_A04  \\\n",
       "ENSMUSG00000000001      2067.817146       489.331053      1931.898272   \n",
       "ENSMUSG00000000028         0.000000       182.879526         9.693297   \n",
       "ENSMUSG00000000037         0.000000       133.090046         2.734047   \n",
       "ENSMUSG00000000056         0.000000        13.571329         0.000000   \n",
       "ENSMUSG00000000058       379.454922         0.000000       114.086869   \n",
       "\n",
       "                    CSCP3_SERUM_A05  CSCP3_SERUM_A06  CSCP3_SERUM_A07  \\\n",
       "ENSMUSG00000000001       631.224035      1890.464023      1413.677958   \n",
       "ENSMUSG00000000028       292.884710        76.670258       761.518682   \n",
       "ENSMUSG00000000037         0.000000         0.000000        41.586720   \n",
       "ENSMUSG00000000056       598.406976       182.267080         0.000000   \n",
       "ENSMUSG00000000058       420.021599         0.000000        66.517913   \n",
       "\n",
       "                    CSCP3_SERUM_A09  CSCP3_SERUM_A10  CSCP3_SERUM_B01  \\\n",
       "ENSMUSG00000000001      1779.398211      1191.744330       863.376312   \n",
       "ENSMUSG00000000028      1153.506956       106.284671       964.335536   \n",
       "ENSMUSG00000000037         0.000000         0.000000         0.000000   \n",
       "ENSMUSG00000000056         0.000000         0.000000         0.000000   \n",
       "ENSMUSG00000000058        37.194040         0.000000        11.420307   \n",
       "\n",
       "                    CSCP3_SERUM_B02       ...         CSCP3_SERUM_G05  \\\n",
       "ENSMUSG00000000001       478.196017       ...             1025.374062   \n",
       "ENSMUSG00000000028        32.822494       ...                0.000000   \n",
       "ENSMUSG00000000037         0.000000       ...              852.370170   \n",
       "ENSMUSG00000000056         0.000000       ...                0.000000   \n",
       "ENSMUSG00000000058         0.000000       ...              252.559746   \n",
       "\n",
       "                    CSCP3_SERUM_G06  CSCP3_SERUM_G07  CSCP3_SERUM_G09  \\\n",
       "ENSMUSG00000000001         7.043681      2816.986385       954.789766   \n",
       "ENSMUSG00000000028         0.000000       373.535885         0.000000   \n",
       "ENSMUSG00000000037         0.000000         0.000000         0.000000   \n",
       "ENSMUSG00000000056         0.000000        63.061875         0.000000   \n",
       "ENSMUSG00000000058         0.000000         0.000000         0.000000   \n",
       "\n",
       "                    CSCP3_SERUM_G10  CSCP3_SERUM_H01  CSCP3_SERUM_H02  \\\n",
       "ENSMUSG00000000001      1030.146220      1044.632271       765.390811   \n",
       "ENSMUSG00000000028         0.000000         0.000000      1906.695790   \n",
       "ENSMUSG00000000037       137.554751         0.000000         0.000000   \n",
       "ENSMUSG00000000056         0.000000       210.124454       861.088046   \n",
       "ENSMUSG00000000058         0.000000        14.305369         0.000000   \n",
       "\n",
       "                    CSCP3_SERUM_H03  CSCP3_SERUM_H09  CSCP3_SERUM_H10  \n",
       "ENSMUSG00000000001      1895.492512       940.973621          0.00000  \n",
       "ENSMUSG00000000028         0.000000       482.654221          0.00000  \n",
       "ENSMUSG00000000037         0.000000        39.284814          0.00000  \n",
       "ENSMUSG00000000056       379.093099         0.000000        105.89739  \n",
       "ENSMUSG00000000058         0.000000         0.000000          0.00000  \n",
       "\n",
       "[5 rows x 61 columns]"
      ]
     },
     "execution_count": 3,
     "metadata": {},
     "output_type": "execute_result"
    }
   ],
   "source": [
    "exp_matrix.head()\n"
   ]
  },
  {
   "cell_type": "code",
   "execution_count": 4,
   "metadata": {
    "collapsed": false
   },
   "outputs": [
    {
     "data": {
      "text/plain": [
       "(14136, 61)"
      ]
     },
     "execution_count": 4,
     "metadata": {},
     "output_type": "execute_result"
    }
   ],
   "source": [
    "exp_matrix.shape"
   ]
  },
  {
   "cell_type": "code",
   "execution_count": 5,
   "metadata": {
    "collapsed": false
   },
   "outputs": [],
   "source": [
    "exp_matrix_t = pandas.DataFrame.transpose(exp_matrix)"
   ]
  },
  {
   "cell_type": "code",
   "execution_count": 6,
   "metadata": {
    "collapsed": false
   },
   "outputs": [
    {
     "data": {
      "text/plain": [
       "(61, 14136)"
      ]
     },
     "execution_count": 6,
     "metadata": {},
     "output_type": "execute_result"
    }
   ],
   "source": [
    "exp_matrix_t.shape"
   ]
  },
  {
   "cell_type": "code",
   "execution_count": 7,
   "metadata": {
    "collapsed": true
   },
   "outputs": [],
   "source": [
    "Embedding_v,Err = sklearn.manifold.locally_linear_embedding(exp_matrix_t,n_neighbors=9, n_components=2, method='modified')"
   ]
  },
  {
   "cell_type": "code",
   "execution_count": 8,
   "metadata": {
    "collapsed": false
   },
   "outputs": [
    {
     "data": {
      "text/plain": [
       "(61, 2)"
      ]
     },
     "execution_count": 8,
     "metadata": {},
     "output_type": "execute_result"
    }
   ],
   "source": [
    "Embedding_v.shape"
   ]
  },
  {
   "cell_type": "code",
   "execution_count": 9,
   "metadata": {
    "collapsed": false
   },
   "outputs": [
    {
     "data": {
      "text/plain": [
       "array([[ 0.16756345, -0.05308231],\n",
       "       [ 0.14676408,  0.26365561],\n",
       "       [ 0.37367124, -0.01795488],\n",
       "       [ 0.38807305, -0.0807946 ],\n",
       "       [-0.01810892,  0.10130474],\n",
       "       [-0.11415166, -0.11556237],\n",
       "       [ 0.23334202, -0.06497206],\n",
       "       [ 0.0641464 ,  0.10818897],\n",
       "       [ 0.05612819,  0.1652226 ],\n",
       "       [-0.04770194,  0.02889038],\n",
       "       [-0.00156581, -0.09165956],\n",
       "       [ 0.03106626,  0.15785012],\n",
       "       [-0.09718876, -0.01856338],\n",
       "       [-0.09325969, -0.03224702],\n",
       "       [-0.10539953, -0.0778732 ],\n",
       "       [-0.08722691,  0.01996653],\n",
       "       [-0.06606699,  0.07169239],\n",
       "       [ 0.12919041,  0.31110451],\n",
       "       [-0.04590947,  0.08021737],\n",
       "       [ 0.27513829, -0.27383921],\n",
       "       [-0.00173869,  0.0669434 ],\n",
       "       [-0.08749272,  0.00830871],\n",
       "       [-0.07801513,  0.03849905],\n",
       "       [-0.06803501,  0.00684662],\n",
       "       [-0.04007372,  0.01582467],\n",
       "       [-0.08410675, -0.06733838],\n",
       "       [-0.06920186, -0.00507727],\n",
       "       [ 0.01919079,  0.11928226],\n",
       "       [-0.09027272, -0.01119242],\n",
       "       [-0.0786761 , -0.04078427],\n",
       "       [-0.11312181, -0.12701496],\n",
       "       [-0.09604172, -0.11177699],\n",
       "       [-0.06837488,  0.01242646],\n",
       "       [-0.06516767,  0.08136882],\n",
       "       [-0.04639182,  0.0397698 ],\n",
       "       [ 0.05842246,  0.23860917],\n",
       "       [-0.09988671, -0.08457534],\n",
       "       [-0.10645572, -0.11780218],\n",
       "       [-0.08755426,  0.00080511],\n",
       "       [-0.10660501, -0.08305513],\n",
       "       [ 0.13304733,  0.33365574],\n",
       "       [-0.10205219, -0.09057073],\n",
       "       [-0.07022845, -0.08979365],\n",
       "       [-0.06073153, -0.1506983 ],\n",
       "       [-0.03446346, -0.14325229],\n",
       "       [-0.10450076, -0.10275108],\n",
       "       [-0.0927783 , -0.04111892],\n",
       "       [-0.09528584, -0.08543062],\n",
       "       [-0.02998776,  0.04906941],\n",
       "       [ 0.04415255, -0.03444688],\n",
       "       [ 0.40366752, -0.28237313],\n",
       "       [ 0.23496067, -0.2218439 ],\n",
       "       [-0.06895705, -0.04120599],\n",
       "       [-0.05608948, -0.01501667],\n",
       "       [-0.02535312, -0.09114103],\n",
       "       [-0.06823685, -0.01636827],\n",
       "       [ 0.0690944 , -0.09747231],\n",
       "       [ 0.09231472,  0.29057594],\n",
       "       [-0.01708483,  0.14624295],\n",
       "       [ 0.04777237,  0.16783695],\n",
       "       [-0.07816461,  0.05449105]])"
      ]
     },
     "execution_count": 9,
     "metadata": {},
     "output_type": "execute_result"
    }
   ],
   "source": [
    "Embedding_v"
   ]
  },
  {
   "cell_type": "code",
   "execution_count": 10,
   "metadata": {
    "collapsed": true
   },
   "outputs": [],
   "source": [
    "import numpy as np\n",
    "import matplotlib.pyplot as plt"
   ]
  },
  {
   "cell_type": "code",
   "execution_count": 11,
   "metadata": {
    "collapsed": false
   },
   "outputs": [
    {
     "data": {
      "image/png": "[encoded data removed]",
      "text/plain": [
       "<matplotlib.figure.Figure at 0x108dfe550>"
      ]
     },
     "metadata": {},
     "output_type": "display_data"
    }
   ],
   "source": [
    "plt.scatter(Embedding_v[:,0],Embedding_v[:,1])\n",
    "plt.show()"
   ]
  },
  {
   "cell_type": "code",
   "execution_count": 17,
   "metadata": {
    "collapsed": false
   },
   "outputs": [
    {
     "data": {
      "text/plain": [
       "array([ 0.16756345,  0.14676408,  0.37367124,  0.38807305, -0.01810892,\n",
       "       -0.11415166,  0.23334202,  0.0641464 ,  0.05612819, -0.04770194,\n",
       "       -0.00156581,  0.03106626, -0.09718876, -0.09325969, -0.10539953,\n",
       "       -0.08722691, -0.06606699,  0.12919041, -0.04590947,  0.27513829,\n",
       "       -0.00173869, -0.08749272, -0.07801513, -0.06803501, -0.04007372,\n",
       "       -0.08410675, -0.06920186,  0.01919079, -0.09027272, -0.0786761 ,\n",
       "       -0.11312181, -0.09604172, -0.06837488, -0.06516767, -0.04639182,\n",
       "        0.05842246, -0.09988671, -0.10645572, -0.08755426, -0.10660501,\n",
       "        0.13304733, -0.10205219, -0.07022845, -0.06073153, -0.03446346,\n",
       "       -0.10450076, -0.0927783 , -0.09528584, -0.02998776,  0.04415255,\n",
       "        0.40366752,  0.23496067, -0.06895705, -0.05608948, -0.02535312,\n",
       "       -0.06823685,  0.0690944 ,  0.09231472, -0.01708483,  0.04777237,\n",
       "       -0.07816461])"
      ]
     },
     "execution_count": 17,
     "metadata": {},
     "output_type": "execute_result"
    }
   ],
   "source": []
  },
  {
   "cell_type": "code",
   "execution_count": null,
   "metadata": {
    "collapsed": true
   },
   "outputs": [],
   "source": []
  }
 ],
 "metadata": {
  "kernelspec": {
   "display_name": "Python 2",
   "language": "python",
   "name": "python2"
  },
  "language_info": {
   "codemirror_mode": {
    "name": "ipython",
    "version": 2
   },
   "file_extension": ".py",
   "mimetype": "text/x-python",
   "name": "python",
   "nbconvert_exporter": "python",
   "pygments_lexer": "ipython2",
   "version": "2.7.12"
  }
 },
 "nbformat": 4,
 "nbformat_minor": 0
}
